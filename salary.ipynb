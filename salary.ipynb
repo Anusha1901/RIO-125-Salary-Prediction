{
 "cells": [
  {
   "cell_type": "markdown",
   "id": "ecb45157",
   "metadata": {},
   "source": [
    "# HR Salary prediction"
   ]
  },
  {
   "cell_type": "code",
   "execution_count": 1,
   "id": "4b1bfa66",
   "metadata": {
    "ExecuteTime": {
     "end_time": "2023-10-20T12:08:12.552038Z",
     "start_time": "2023-10-20T12:08:09.644936Z"
    }
   },
   "outputs": [],
   "source": [
    "import numpy as np\n",
    "import pandas as pd\n",
    "import matplotlib.pyplot as plt\n",
    "import seaborn as sns\n",
    "\n",
    "import warnings\n",
    "warnings.filterwarnings(\"ignore\")"
   ]
  },
  {
   "cell_type": "code",
   "execution_count": 60,
   "id": "dd3dbb60",
   "metadata": {
    "ExecuteTime": {
     "end_time": "2023-10-20T12:56:49.913239Z",
     "start_time": "2023-10-20T12:56:49.616672Z"
    }
   },
   "outputs": [],
   "source": [
    "df = pd.read_csv(\"adult.csv\")"
   ]
  },
  {
   "cell_type": "code",
   "execution_count": 3,
   "id": "fd797dde",
   "metadata": {
    "ExecuteTime": {
     "end_time": "2023-10-20T12:08:12.828528Z",
     "start_time": "2023-10-20T12:08:12.788525Z"
    }
   },
   "outputs": [
    {
     "data": {
      "text/html": [
       "<div>\n",
       "<style scoped>\n",
       "    .dataframe tbody tr th:only-of-type {\n",
       "        vertical-align: middle;\n",
       "    }\n",
       "\n",
       "    .dataframe tbody tr th {\n",
       "        vertical-align: top;\n",
       "    }\n",
       "\n",
       "    .dataframe thead th {\n",
       "        text-align: right;\n",
       "    }\n",
       "</style>\n",
       "<table border=\"1\" class=\"dataframe\">\n",
       "  <thead>\n",
       "    <tr style=\"text-align: right;\">\n",
       "      <th></th>\n",
       "      <th>age</th>\n",
       "      <th>workclass</th>\n",
       "      <th>fnlwgt</th>\n",
       "      <th>education</th>\n",
       "      <th>educational-num</th>\n",
       "      <th>marital-status</th>\n",
       "      <th>occupation</th>\n",
       "      <th>relationship</th>\n",
       "      <th>race</th>\n",
       "      <th>gender</th>\n",
       "      <th>capital-gain</th>\n",
       "      <th>capital-loss</th>\n",
       "      <th>hours-per-week</th>\n",
       "      <th>native-country</th>\n",
       "      <th>income</th>\n",
       "    </tr>\n",
       "  </thead>\n",
       "  <tbody>\n",
       "    <tr>\n",
       "      <th>0</th>\n",
       "      <td>25</td>\n",
       "      <td>Private</td>\n",
       "      <td>226802</td>\n",
       "      <td>11th</td>\n",
       "      <td>7</td>\n",
       "      <td>Never-married</td>\n",
       "      <td>Machine-op-inspct</td>\n",
       "      <td>Own-child</td>\n",
       "      <td>Black</td>\n",
       "      <td>Male</td>\n",
       "      <td>0</td>\n",
       "      <td>0</td>\n",
       "      <td>40</td>\n",
       "      <td>United-States</td>\n",
       "      <td>&lt;=50K</td>\n",
       "    </tr>\n",
       "    <tr>\n",
       "      <th>1</th>\n",
       "      <td>38</td>\n",
       "      <td>Private</td>\n",
       "      <td>89814</td>\n",
       "      <td>HS-grad</td>\n",
       "      <td>9</td>\n",
       "      <td>Married-civ-spouse</td>\n",
       "      <td>Farming-fishing</td>\n",
       "      <td>Husband</td>\n",
       "      <td>White</td>\n",
       "      <td>Male</td>\n",
       "      <td>0</td>\n",
       "      <td>0</td>\n",
       "      <td>50</td>\n",
       "      <td>United-States</td>\n",
       "      <td>&lt;=50K</td>\n",
       "    </tr>\n",
       "    <tr>\n",
       "      <th>2</th>\n",
       "      <td>28</td>\n",
       "      <td>Local-gov</td>\n",
       "      <td>336951</td>\n",
       "      <td>Assoc-acdm</td>\n",
       "      <td>12</td>\n",
       "      <td>Married-civ-spouse</td>\n",
       "      <td>Protective-serv</td>\n",
       "      <td>Husband</td>\n",
       "      <td>White</td>\n",
       "      <td>Male</td>\n",
       "      <td>0</td>\n",
       "      <td>0</td>\n",
       "      <td>40</td>\n",
       "      <td>United-States</td>\n",
       "      <td>&gt;50K</td>\n",
       "    </tr>\n",
       "    <tr>\n",
       "      <th>3</th>\n",
       "      <td>44</td>\n",
       "      <td>Private</td>\n",
       "      <td>160323</td>\n",
       "      <td>Some-college</td>\n",
       "      <td>10</td>\n",
       "      <td>Married-civ-spouse</td>\n",
       "      <td>Machine-op-inspct</td>\n",
       "      <td>Husband</td>\n",
       "      <td>Black</td>\n",
       "      <td>Male</td>\n",
       "      <td>7688</td>\n",
       "      <td>0</td>\n",
       "      <td>40</td>\n",
       "      <td>United-States</td>\n",
       "      <td>&gt;50K</td>\n",
       "    </tr>\n",
       "    <tr>\n",
       "      <th>4</th>\n",
       "      <td>18</td>\n",
       "      <td>?</td>\n",
       "      <td>103497</td>\n",
       "      <td>Some-college</td>\n",
       "      <td>10</td>\n",
       "      <td>Never-married</td>\n",
       "      <td>?</td>\n",
       "      <td>Own-child</td>\n",
       "      <td>White</td>\n",
       "      <td>Female</td>\n",
       "      <td>0</td>\n",
       "      <td>0</td>\n",
       "      <td>30</td>\n",
       "      <td>United-States</td>\n",
       "      <td>&lt;=50K</td>\n",
       "    </tr>\n",
       "  </tbody>\n",
       "</table>\n",
       "</div>"
      ],
      "text/plain": [
       "   age  workclass  fnlwgt     education  educational-num      marital-status  \\\n",
       "0   25    Private  226802          11th                7       Never-married   \n",
       "1   38    Private   89814       HS-grad                9  Married-civ-spouse   \n",
       "2   28  Local-gov  336951    Assoc-acdm               12  Married-civ-spouse   \n",
       "3   44    Private  160323  Some-college               10  Married-civ-spouse   \n",
       "4   18          ?  103497  Some-college               10       Never-married   \n",
       "\n",
       "          occupation relationship   race  gender  capital-gain  capital-loss  \\\n",
       "0  Machine-op-inspct    Own-child  Black    Male             0             0   \n",
       "1    Farming-fishing      Husband  White    Male             0             0   \n",
       "2    Protective-serv      Husband  White    Male             0             0   \n",
       "3  Machine-op-inspct      Husband  Black    Male          7688             0   \n",
       "4                  ?    Own-child  White  Female             0             0   \n",
       "\n",
       "   hours-per-week native-country income  \n",
       "0              40  United-States  <=50K  \n",
       "1              50  United-States  <=50K  \n",
       "2              40  United-States   >50K  \n",
       "3              40  United-States   >50K  \n",
       "4              30  United-States  <=50K  "
      ]
     },
     "execution_count": 3,
     "metadata": {},
     "output_type": "execute_result"
    }
   ],
   "source": [
    "df.head()"
   ]
  },
  {
   "cell_type": "markdown",
   "id": "b3b2807e",
   "metadata": {},
   "source": [
    "# Step 1: Data Cleaning"
   ]
  },
  {
   "cell_type": "code",
   "execution_count": 4,
   "id": "24a63d42",
   "metadata": {
    "ExecuteTime": {
     "end_time": "2023-10-20T12:08:12.892550Z",
     "start_time": "2023-10-20T12:08:12.828528Z"
    }
   },
   "outputs": [
    {
     "data": {
      "text/plain": [
       "Index(['age', 'workclass', 'fnlwgt', 'education', 'educational-num', 'marital',\n",
       "       'occupation', 'relationship', 'race', 'gender', 'capital gain',\n",
       "       'capital loss', 'hours per week', 'country', 'income'],\n",
       "      dtype='object')"
      ]
     },
     "execution_count": 4,
     "metadata": {},
     "output_type": "execute_result"
    }
   ],
   "source": [
    "df.rename(columns={'capital-gain': 'capital gain', 'capital-loss': 'capital loss', 'native-country': 'country','hours-per-week': 'hours per week','marital-status': 'marital'}, inplace=True)\n",
    "df.columns"
   ]
  },
  {
   "cell_type": "code",
   "execution_count": 5,
   "id": "2750f9fe",
   "metadata": {
    "ExecuteTime": {
     "end_time": "2023-10-20T12:08:13.124569Z",
     "start_time": "2023-10-20T12:08:12.892550Z"
    }
   },
   "outputs": [
    {
     "data": {
      "text/plain": [
       "age                   0\n",
       "workclass          2799\n",
       "fnlwgt                0\n",
       "education             0\n",
       "educational-num       0\n",
       "marital               0\n",
       "occupation         2809\n",
       "relationship          0\n",
       "race                  0\n",
       "gender                0\n",
       "capital gain          0\n",
       "capital loss          0\n",
       "hours per week        0\n",
       "country             857\n",
       "income                0\n",
       "dtype: int64"
      ]
     },
     "execution_count": 5,
     "metadata": {},
     "output_type": "execute_result"
    }
   ],
   "source": [
    "#Finding the special characters in the data frame \n",
    "df.isin(['?']).sum(axis=0)"
   ]
  },
  {
   "cell_type": "code",
   "execution_count": 6,
   "id": "60053106",
   "metadata": {
    "ExecuteTime": {
     "end_time": "2023-10-20T12:08:13.340627Z",
     "start_time": "2023-10-20T12:08:13.124569Z"
    }
   },
   "outputs": [],
   "source": [
    "# code will replace the special character to nan and then drop the columns \n",
    "df['country'] = df['country'].replace('?',np.nan)\n",
    "df['workclass'] = df['workclass'].replace('?',np.nan)\n",
    "df['occupation'] = df['occupation'].replace('?',np.nan)\n",
    "#dropping the NaN rows now \n",
    "df.dropna(how='any',inplace=True)"
   ]
  },
  {
   "cell_type": "code",
   "execution_count": 7,
   "id": "49442492",
   "metadata": {
    "ExecuteTime": {
     "end_time": "2023-10-20T12:08:13.452590Z",
     "start_time": "2023-10-20T12:08:13.340627Z"
    }
   },
   "outputs": [
    {
     "data": {
      "text/plain": [
       "age                0\n",
       "workclass          0\n",
       "fnlwgt             0\n",
       "education          0\n",
       "educational-num    0\n",
       "marital            0\n",
       "occupation         0\n",
       "relationship       0\n",
       "race               0\n",
       "gender             0\n",
       "capital gain       0\n",
       "capital loss       0\n",
       "hours per week     0\n",
       "country            0\n",
       "income             0\n",
       "dtype: int64"
      ]
     },
     "execution_count": 7,
     "metadata": {},
     "output_type": "execute_result"
    }
   ],
   "source": [
    "#Finding if special characters are present in the data \n",
    "df.isin(['?']).sum(axis=0)"
   ]
  },
  {
   "cell_type": "markdown",
   "id": "2ceb756c",
   "metadata": {},
   "source": [
    "# Step 2: Data Visualization"
   ]
  },
  {
   "cell_type": "code",
   "execution_count": 8,
   "id": "b5c90e52",
   "metadata": {
    "ExecuteTime": {
     "end_time": "2023-10-20T12:08:13.796648Z",
     "start_time": "2023-10-20T12:08:13.452590Z"
    }
   },
   "outputs": [
    {
     "data": {
      "image/png": "[encoded data removed]",
      "text/plain": [
       "<Figure size 432x288 with 1 Axes>"
      ]
     },
     "metadata": {
      "needs_background": "light"
     },
     "output_type": "display_data"
    }
   ],
   "source": [
    "plt.hist(df['age'])\n",
    "plt.xlabel('age')\n",
    "plt.ylabel('count')\n",
    "plt.rcParams['figure.figsize']=(7,4)\n",
    "plt.xticks(np.arange(20,100,5))\n",
    "plt.title('age distribution')\n",
    "plt.show()"
   ]
  },
  {
   "cell_type": "code",
   "execution_count": 9,
   "id": "cfdf0b15",
   "metadata": {
    "ExecuteTime": {
     "end_time": "2023-10-20T12:08:14.004608Z",
     "start_time": "2023-10-20T12:08:13.796648Z"
    }
   },
   "outputs": [
    {
     "data": {
      "image/png": "[encoded data removed]",
      "text/plain": [
       "<Figure size 504x288 with 1 Axes>"
      ]
     },
     "metadata": {},
     "output_type": "display_data"
    }
   ],
   "source": [
    "df['workclass'].value_counts().plot(kind='pie')\n",
    "plt.rcParams['figure.figsize']=(7,7)\n",
    "plt.show()"
   ]
  },
  {
   "cell_type": "code",
   "execution_count": 10,
   "id": "7d1701a3",
   "metadata": {
    "ExecuteTime": {
     "end_time": "2023-10-20T12:08:14.348631Z",
     "start_time": "2023-10-20T12:08:14.004608Z"
    }
   },
   "outputs": [
    {
     "data": {
      "image/png": "[encoded data removed]",
      "text/plain": [
       "<Figure size 504x504 with 1 Axes>"
      ]
     },
     "metadata": {
      "needs_background": "light"
     },
     "output_type": "display_data"
    }
   ],
   "source": [
    "df['education'].value_counts().plot(kind='bar')\n",
    "plt.xlabel('education')\n",
    "plt.ylabel('people')\n",
    "plt.rcParams['figure.figsize']=(5,4)\n",
    "plt.title('education level')\n",
    "plt.show()"
   ]
  },
  {
   "cell_type": "code",
   "execution_count": 11,
   "id": "db51ec7a",
   "metadata": {
    "ExecuteTime": {
     "end_time": "2023-10-20T12:08:14.556648Z",
     "start_time": "2023-10-20T12:08:14.348631Z"
    }
   },
   "outputs": [
    {
     "data": {
      "image/png": "[encoded data removed]",
      "text/plain": [
       "<Figure size 360x288 with 1 Axes>"
      ]
     },
     "metadata": {},
     "output_type": "display_data"
    }
   ],
   "source": [
    "df['marital'].value_counts().plot(kind='pie')\n",
    "plt.rcParams['figure.figsize']=(7,7)\n",
    "plt.show()"
   ]
  },
  {
   "cell_type": "code",
   "execution_count": 12,
   "id": "c3204ed3",
   "metadata": {
    "ExecuteTime": {
     "end_time": "2023-10-20T12:08:15.087339Z",
     "start_time": "2023-10-20T12:08:14.564648Z"
    }
   },
   "outputs": [
    {
     "data": {
      "image/png": "[encoded data removed]",
      "text/plain": [
       "<Figure size 504x504 with 1 Axes>"
      ]
     },
     "metadata": {
      "needs_background": "light"
     },
     "output_type": "display_data"
    }
   ],
   "source": [
    "df['occupation'].value_counts().plot(kind='bar')\n",
    "plt.show()"
   ]
  },
  {
   "cell_type": "code",
   "execution_count": 13,
   "id": "5e8ab602",
   "metadata": {
    "ExecuteTime": {
     "end_time": "2023-10-20T12:08:15.327411Z",
     "start_time": "2023-10-20T12:08:15.087339Z"
    }
   },
   "outputs": [
    {
     "data": {
      "image/png": "[encoded data removed]",
      "text/plain": [
       "<Figure size 504x504 with 1 Axes>"
      ]
     },
     "metadata": {},
     "output_type": "display_data"
    }
   ],
   "source": [
    "df['race'].value_counts().plot(kind='pie')\n",
    "plt.show()"
   ]
  },
  {
   "cell_type": "code",
   "execution_count": 14,
   "id": "25c83de9",
   "metadata": {
    "ExecuteTime": {
     "end_time": "2023-10-20T12:08:15.527389Z",
     "start_time": "2023-10-20T12:08:15.327411Z"
    }
   },
   "outputs": [
    {
     "data": {
      "image/png": "[encoded data removed]",
      "text/plain": [
       "<Figure size 504x504 with 1 Axes>"
      ]
     },
     "metadata": {
      "needs_background": "light"
     },
     "output_type": "display_data"
    }
   ],
   "source": [
    "plt.boxplot(df['hours per week'])\n",
    "plt.show()"
   ]
  },
  {
   "cell_type": "code",
   "execution_count": 15,
   "id": "621c4e65",
   "metadata": {
    "ExecuteTime": {
     "end_time": "2023-10-20T12:08:15.927427Z",
     "start_time": "2023-10-20T12:08:15.527389Z"
    }
   },
   "outputs": [
    {
     "data": {
      "image/png": "[encoded data removed]",
      "text/plain": [
       "<Figure size 504x504 with 1 Axes>"
      ]
     },
     "metadata": {
      "needs_background": "light"
     },
     "output_type": "display_data"
    }
   ],
   "source": [
    "df['country'].value_counts().head(10).plot(kind='bar')\n",
    "plt.rcParams['figure.figsize']=(7,4)\n",
    "plt.show()"
   ]
  },
  {
   "cell_type": "code",
   "execution_count": 16,
   "id": "16afd6c0",
   "metadata": {
    "ExecuteTime": {
     "end_time": "2023-10-20T12:08:16.247450Z",
     "start_time": "2023-10-20T12:08:15.935407Z"
    }
   },
   "outputs": [
    {
     "data": {
      "image/png": "[encoded data removed]",
      "text/plain": [
       "<Figure size 504x288 with 1 Axes>"
      ]
     },
     "metadata": {},
     "output_type": "display_data"
    }
   ],
   "source": [
    "df['gender'].value_counts().plot(kind='pie')\n",
    "plt.rcParams['figure.figsize']=(7,7)\n",
    "plt.show()"
   ]
  },
  {
   "cell_type": "code",
   "execution_count": 17,
   "id": "66f27038",
   "metadata": {
    "ExecuteTime": {
     "end_time": "2023-10-20T12:08:16.271424Z",
     "start_time": "2023-10-20T12:08:16.247450Z"
    }
   },
   "outputs": [],
   "source": [
    "df1=df.copy()"
   ]
  },
  {
   "cell_type": "code",
   "execution_count": 18,
   "id": "688439b2",
   "metadata": {
    "ExecuteTime": {
     "end_time": "2023-10-20T12:08:16.519468Z",
     "start_time": "2023-10-20T12:08:16.279430Z"
    }
   },
   "outputs": [
    {
     "name": "stdout",
     "output_type": "stream",
     "text": [
      "---- age ---\n",
      "36    1283\n",
      "33    1279\n",
      "31    1274\n",
      "35    1272\n",
      "23    1241\n",
      "      ... \n",
      "85       5\n",
      "88       5\n",
      "89       1\n",
      "87       1\n",
      "86       1\n",
      "Name: age, Length: 74, dtype: int64\n",
      "---- workclass ---\n",
      "Private             33307\n",
      "Self-emp-not-inc     3796\n",
      "Local-gov            3100\n",
      "State-gov            1946\n",
      "Self-emp-inc         1646\n",
      "Federal-gov          1406\n",
      "Without-pay            21\n",
      "Name: workclass, dtype: int64\n",
      "---- fnlwgt ---\n",
      "203488    21\n",
      "120277    18\n",
      "125892    18\n",
      "113364    17\n",
      "126569    17\n",
      "          ..\n",
      "152234     1\n",
      "171301     1\n",
      "257764     1\n",
      "168312     1\n",
      "257302     1\n",
      "Name: fnlwgt, Length: 26741, dtype: int64\n",
      "---- education ---\n",
      "HS-grad         14783\n",
      "Some-college     9899\n",
      "Bachelors        7570\n",
      "Masters          2514\n",
      "Assoc-voc        1959\n",
      "11th             1619\n",
      "Assoc-acdm       1507\n",
      "10th             1223\n",
      "7th-8th           823\n",
      "Prof-school       785\n",
      "9th               676\n",
      "12th              577\n",
      "Doctorate         544\n",
      "5th-6th           449\n",
      "1st-4th           222\n",
      "Preschool          72\n",
      "Name: education, dtype: int64\n",
      "---- educational-num ---\n",
      "9     14783\n",
      "10     9899\n",
      "13     7570\n",
      "14     2514\n",
      "11     1959\n",
      "7      1619\n",
      "12     1507\n",
      "6      1223\n",
      "4       823\n",
      "15      785\n",
      "5       676\n",
      "8       577\n",
      "16      544\n",
      "3       449\n",
      "2       222\n",
      "1        72\n",
      "Name: educational-num, dtype: int64\n",
      "---- marital ---\n",
      "Married-civ-spouse       21055\n",
      "Never-married            14598\n",
      "Divorced                  6297\n",
      "Separated                 1411\n",
      "Widowed                   1277\n",
      "Married-spouse-absent      552\n",
      "Married-AF-spouse           32\n",
      "Name: marital, dtype: int64\n",
      "---- occupation ---\n",
      "Craft-repair         6020\n",
      "Prof-specialty       6008\n",
      "Exec-managerial      5984\n",
      "Adm-clerical         5540\n",
      "Sales                5408\n",
      "Other-service        4808\n",
      "Machine-op-inspct    2970\n",
      "Transport-moving     2316\n",
      "Handlers-cleaners    2046\n",
      "Farming-fishing      1480\n",
      "Tech-support         1420\n",
      "Protective-serv       976\n",
      "Priv-house-serv       232\n",
      "Armed-Forces           14\n",
      "Name: occupation, dtype: int64\n",
      "---- relationship ---\n",
      "Husband           18666\n",
      "Not-in-family     11702\n",
      "Own-child          6626\n",
      "Unmarried          4788\n",
      "Wife               2091\n",
      "Other-relative     1349\n",
      "Name: relationship, dtype: int64\n",
      "---- race ---\n",
      "White                 38903\n",
      "Black                  4228\n",
      "Asian-Pac-Islander     1303\n",
      "Amer-Indian-Eskimo      435\n",
      "Other                   353\n",
      "Name: race, dtype: int64\n",
      "---- gender ---\n",
      "Male      30527\n",
      "Female    14695\n",
      "Name: gender, dtype: int64\n",
      "---- capital gain ---\n",
      "0        41432\n",
      "15024      498\n",
      "7688       391\n",
      "7298       351\n",
      "99999      229\n",
      "         ...  \n",
      "22040        1\n",
      "1731         1\n",
      "7262         1\n",
      "1639         1\n",
      "2387         1\n",
      "Name: capital gain, Length: 121, dtype: int64\n",
      "---- capital loss ---\n",
      "0       43082\n",
      "1902      294\n",
      "1977      246\n",
      "1887      228\n",
      "2415       68\n",
      "        ...  \n",
      "419         1\n",
      "155         1\n",
      "1539        1\n",
      "2201        1\n",
      "1421        1\n",
      "Name: capital loss, Length: 97, dtype: int64\n",
      "---- hours per week ---\n",
      "40    21358\n",
      "50     4094\n",
      "45     2602\n",
      "60     2085\n",
      "35     1776\n",
      "      ...  \n",
      "79        1\n",
      "69        1\n",
      "87        1\n",
      "94        1\n",
      "82        1\n",
      "Name: hours per week, Length: 96, dtype: int64\n",
      "---- country ---\n",
      "United-States                 41292\n",
      "Mexico                          903\n",
      "Philippines                     283\n",
      "Germany                         193\n",
      "Puerto-Rico                     175\n",
      "Canada                          163\n",
      "El-Salvador                     147\n",
      "India                           147\n",
      "Cuba                            133\n",
      "England                         119\n",
      "China                           113\n",
      "Jamaica                         103\n",
      "South                           101\n",
      "Italy                           100\n",
      "Dominican-Republic               97\n",
      "Japan                            89\n",
      "Guatemala                        86\n",
      "Vietnam                          83\n",
      "Columbia                         82\n",
      "Poland                           81\n",
      "Haiti                            69\n",
      "Portugal                         62\n",
      "Iran                             56\n",
      "Taiwan                           55\n",
      "Greece                           49\n",
      "Nicaragua                        48\n",
      "Peru                             45\n",
      "Ecuador                          43\n",
      "France                           36\n",
      "Ireland                          36\n",
      "Thailand                         29\n",
      "Hong                             28\n",
      "Cambodia                         26\n",
      "Trinadad&Tobago                  26\n",
      "Yugoslavia                       23\n",
      "Outlying-US(Guam-USVI-etc)       22\n",
      "Laos                             21\n",
      "Scotland                         20\n",
      "Honduras                         19\n",
      "Hungary                          18\n",
      "Holand-Netherlands                1\n",
      "Name: country, dtype: int64\n",
      "---- income ---\n",
      "<=50K    34014\n",
      ">50K     11208\n",
      "Name: income, dtype: int64\n"
     ]
    }
   ],
   "source": [
    "#running a loop of value_counts of each column to find out unique values. \n",
    "for c in df.columns:\n",
    "    print (\"---- %s ---\" % c)\n",
    "    print (df[c].value_counts())"
   ]
  },
  {
   "cell_type": "markdown",
   "id": "b59ea263",
   "metadata": {},
   "source": [
    "### Dropping the columns which are not necessary"
   ]
  },
  {
   "cell_type": "code",
   "execution_count": 19,
   "id": "f220ad98",
   "metadata": {
    "ExecuteTime": {
     "end_time": "2023-10-20T12:08:16.559470Z",
     "start_time": "2023-10-20T12:08:16.527440Z"
    }
   },
   "outputs": [],
   "source": [
    "#dropping based on uniquness of data from the dataset \n",
    "df1.drop(['educational-num','age', 'hours per week', 'fnlwgt', 'capital gain','capital loss', 'country'], axis=1, inplace=True)"
   ]
  },
  {
   "cell_type": "markdown",
   "id": "af250c7e",
   "metadata": {},
   "source": [
    "# Step 3: Converting categorical columns to numerical"
   ]
  },
  {
   "cell_type": "code",
   "execution_count": 20,
   "id": "0c3c35ff",
   "metadata": {
    "ExecuteTime": {
     "end_time": "2023-10-20T12:08:16.663482Z",
     "start_time": "2023-10-20T12:08:16.559470Z"
    }
   },
   "outputs": [],
   "source": [
    "#mapping the data into numerical data using map function\n",
    "df1['income'] = df1['income'].map({'<=50K': 0, '>50K': 1}).astype(int)"
   ]
  },
  {
   "cell_type": "code",
   "execution_count": 21,
   "id": "c9ed48db",
   "metadata": {
    "ExecuteTime": {
     "end_time": "2023-10-20T12:08:16.799493Z",
     "start_time": "2023-10-20T12:08:16.663482Z"
    }
   },
   "outputs": [],
   "source": [
    "#gender\n",
    "df1['gender'] = df1['gender'].map({'Male': 0, 'Female': 1}).astype(int)"
   ]
  },
  {
   "cell_type": "code",
   "execution_count": 22,
   "id": "e61cdba2",
   "metadata": {
    "ExecuteTime": {
     "end_time": "2023-10-20T12:08:16.903518Z",
     "start_time": "2023-10-20T12:08:16.799493Z"
    }
   },
   "outputs": [],
   "source": [
    "#race\n",
    "df1['race'] = df1['race'].map({'Black': 0, 'Asian-Pac-Islander': 1, 'Other': 2, 'White': 3, 'Amer-Indian-Eskimo': 4}).astype(int)"
   ]
  },
  {
   "cell_type": "code",
   "execution_count": 23,
   "id": "10774b23",
   "metadata": {
    "ExecuteTime": {
     "end_time": "2023-10-20T12:08:17.031527Z",
     "start_time": "2023-10-20T12:08:16.903518Z"
    }
   },
   "outputs": [],
   "source": [
    "#marital\n",
    "df1['marital'] = df1['marital'].map({'Married-spouse-absent': 0, 'Widowed': 1, 'Married-civ-spouse': 2, 'Separated': 3, 'Divorced': 4,'Never-married': 5, 'Married-AF-spouse': 6}).astype(int)"
   ]
  },
  {
   "cell_type": "code",
   "execution_count": 24,
   "id": "c563f91c",
   "metadata": {
    "ExecuteTime": {
     "end_time": "2023-10-20T12:08:17.159540Z",
     "start_time": "2023-10-20T12:08:17.031527Z"
    }
   },
   "outputs": [],
   "source": [
    "#workclass\n",
    "df1['workclass'] = df1['workclass'].map({'Self-emp-inc': 0, 'State-gov': 1,'Federal-gov': 2, 'Without-pay': 3, 'Local-gov': 4,'Private': 5, 'Self-emp-not-inc': 6}).astype(int)"
   ]
  },
  {
   "cell_type": "code",
   "execution_count": 25,
   "id": "50749e70",
   "metadata": {
    "ExecuteTime": {
     "end_time": "2023-10-20T12:08:17.279545Z",
     "start_time": "2023-10-20T12:08:17.167491Z"
    }
   },
   "outputs": [],
   "source": [
    "#education\n",
    "df1['education'] = df1['education'].map({'Some-college': 0, 'Preschool': 1, '5th-6th': 2, 'HS-grad': 3, 'Masters': 4, '12th': 5, '7th-8th': 6, 'Prof-school': 7,'1st-4th': 8, 'Assoc-acdm': 9, 'Doctorate': 10, '11th': 11,'Bachelors': 12, '10th': 13,'Assoc-voc': 14,'9th': 15}).astype(int)"
   ]
  },
  {
   "cell_type": "code",
   "execution_count": 26,
   "id": "0fcd57fb",
   "metadata": {
    "ExecuteTime": {
     "end_time": "2023-10-20T12:08:17.535508Z",
     "start_time": "2023-10-20T12:08:17.279545Z"
    }
   },
   "outputs": [],
   "source": [
    "from sklearn.preprocessing import LabelEncoder\n",
    "\n",
    "label_encoder = LabelEncoder()\n",
    "df1['occupation'] = label_encoder.fit_transform(df1['occupation'])"
   ]
  },
  {
   "cell_type": "code",
   "execution_count": 27,
   "id": "0877dc5b",
   "metadata": {
    "ExecuteTime": {
     "end_time": "2023-10-20T12:08:17.567563Z",
     "start_time": "2023-10-20T12:08:17.543509Z"
    }
   },
   "outputs": [],
   "source": [
    "#relationship\n",
    "df1['relationship'] = df1['relationship'].map({'Not-in-family': 0, 'Wife': 1, 'Other-relative': 2, 'Unmarried': 3,'Husband': 4,'Own-child': 5}).astype(int)"
   ]
  },
  {
   "cell_type": "code",
   "execution_count": 28,
   "id": "595b6ef3",
   "metadata": {
    "ExecuteTime": {
     "end_time": "2023-10-20T12:08:17.775533Z",
     "start_time": "2023-10-20T12:08:17.567563Z"
    }
   },
   "outputs": [
    {
     "data": {
      "text/html": [
       "<div>\n",
       "<style scoped>\n",
       "    .dataframe tbody tr th:only-of-type {\n",
       "        vertical-align: middle;\n",
       "    }\n",
       "\n",
       "    .dataframe tbody tr th {\n",
       "        vertical-align: top;\n",
       "    }\n",
       "\n",
       "    .dataframe thead th {\n",
       "        text-align: right;\n",
       "    }\n",
       "</style>\n",
       "<table border=\"1\" class=\"dataframe\">\n",
       "  <thead>\n",
       "    <tr style=\"text-align: right;\">\n",
       "      <th></th>\n",
       "      <th>workclass</th>\n",
       "      <th>education</th>\n",
       "      <th>marital</th>\n",
       "      <th>occupation</th>\n",
       "      <th>relationship</th>\n",
       "      <th>race</th>\n",
       "      <th>gender</th>\n",
       "      <th>income</th>\n",
       "    </tr>\n",
       "  </thead>\n",
       "  <tbody>\n",
       "    <tr>\n",
       "      <th>0</th>\n",
       "      <td>5</td>\n",
       "      <td>11</td>\n",
       "      <td>5</td>\n",
       "      <td>6</td>\n",
       "      <td>5</td>\n",
       "      <td>0</td>\n",
       "      <td>0</td>\n",
       "      <td>0</td>\n",
       "    </tr>\n",
       "    <tr>\n",
       "      <th>1</th>\n",
       "      <td>5</td>\n",
       "      <td>3</td>\n",
       "      <td>2</td>\n",
       "      <td>4</td>\n",
       "      <td>4</td>\n",
       "      <td>3</td>\n",
       "      <td>0</td>\n",
       "      <td>0</td>\n",
       "    </tr>\n",
       "    <tr>\n",
       "      <th>2</th>\n",
       "      <td>4</td>\n",
       "      <td>9</td>\n",
       "      <td>2</td>\n",
       "      <td>10</td>\n",
       "      <td>4</td>\n",
       "      <td>3</td>\n",
       "      <td>0</td>\n",
       "      <td>1</td>\n",
       "    </tr>\n",
       "    <tr>\n",
       "      <th>3</th>\n",
       "      <td>5</td>\n",
       "      <td>0</td>\n",
       "      <td>2</td>\n",
       "      <td>6</td>\n",
       "      <td>4</td>\n",
       "      <td>0</td>\n",
       "      <td>0</td>\n",
       "      <td>1</td>\n",
       "    </tr>\n",
       "    <tr>\n",
       "      <th>5</th>\n",
       "      <td>5</td>\n",
       "      <td>13</td>\n",
       "      <td>5</td>\n",
       "      <td>7</td>\n",
       "      <td>0</td>\n",
       "      <td>3</td>\n",
       "      <td>0</td>\n",
       "      <td>0</td>\n",
       "    </tr>\n",
       "  </tbody>\n",
       "</table>\n",
       "</div>"
      ],
      "text/plain": [
       "   workclass  education  marital  occupation  relationship  race  gender  \\\n",
       "0          5         11        5           6             5     0       0   \n",
       "1          5          3        2           4             4     3       0   \n",
       "2          4          9        2          10             4     3       0   \n",
       "3          5          0        2           6             4     0       0   \n",
       "5          5         13        5           7             0     3       0   \n",
       "\n",
       "   income  \n",
       "0       0  \n",
       "1       0  \n",
       "2       1  \n",
       "3       1  \n",
       "5       0  "
      ]
     },
     "execution_count": 28,
     "metadata": {},
     "output_type": "execute_result"
    }
   ],
   "source": [
    "df1.head()"
   ]
  },
  {
   "cell_type": "markdown",
   "id": "d03c9b35",
   "metadata": {},
   "source": [
    "### Splitting the dependent column and independent columns"
   ]
  },
  {
   "cell_type": "code",
   "execution_count": 29,
   "id": "5c419e21",
   "metadata": {
    "ExecuteTime": {
     "end_time": "2023-10-20T12:08:17.919544Z",
     "start_time": "2023-10-20T12:08:17.783527Z"
    }
   },
   "outputs": [
    {
     "data": {
      "text/html": [
       "<div>\n",
       "<style scoped>\n",
       "    .dataframe tbody tr th:only-of-type {\n",
       "        vertical-align: middle;\n",
       "    }\n",
       "\n",
       "    .dataframe tbody tr th {\n",
       "        vertical-align: top;\n",
       "    }\n",
       "\n",
       "    .dataframe thead th {\n",
       "        text-align: right;\n",
       "    }\n",
       "</style>\n",
       "<table border=\"1\" class=\"dataframe\">\n",
       "  <thead>\n",
       "    <tr style=\"text-align: right;\">\n",
       "      <th></th>\n",
       "      <th>workclass</th>\n",
       "      <th>education</th>\n",
       "      <th>marital</th>\n",
       "      <th>occupation</th>\n",
       "      <th>relationship</th>\n",
       "      <th>race</th>\n",
       "      <th>gender</th>\n",
       "    </tr>\n",
       "  </thead>\n",
       "  <tbody>\n",
       "    <tr>\n",
       "      <th>0</th>\n",
       "      <td>5</td>\n",
       "      <td>11</td>\n",
       "      <td>5</td>\n",
       "      <td>6</td>\n",
       "      <td>5</td>\n",
       "      <td>0</td>\n",
       "      <td>0</td>\n",
       "    </tr>\n",
       "    <tr>\n",
       "      <th>1</th>\n",
       "      <td>5</td>\n",
       "      <td>3</td>\n",
       "      <td>2</td>\n",
       "      <td>4</td>\n",
       "      <td>4</td>\n",
       "      <td>3</td>\n",
       "      <td>0</td>\n",
       "    </tr>\n",
       "    <tr>\n",
       "      <th>2</th>\n",
       "      <td>4</td>\n",
       "      <td>9</td>\n",
       "      <td>2</td>\n",
       "      <td>10</td>\n",
       "      <td>4</td>\n",
       "      <td>3</td>\n",
       "      <td>0</td>\n",
       "    </tr>\n",
       "    <tr>\n",
       "      <th>3</th>\n",
       "      <td>5</td>\n",
       "      <td>0</td>\n",
       "      <td>2</td>\n",
       "      <td>6</td>\n",
       "      <td>4</td>\n",
       "      <td>0</td>\n",
       "      <td>0</td>\n",
       "    </tr>\n",
       "    <tr>\n",
       "      <th>5</th>\n",
       "      <td>5</td>\n",
       "      <td>13</td>\n",
       "      <td>5</td>\n",
       "      <td>7</td>\n",
       "      <td>0</td>\n",
       "      <td>3</td>\n",
       "      <td>0</td>\n",
       "    </tr>\n",
       "  </tbody>\n",
       "</table>\n",
       "</div>"
      ],
      "text/plain": [
       "   workclass  education  marital  occupation  relationship  race  gender\n",
       "0          5         11        5           6             5     0       0\n",
       "1          5          3        2           4             4     3       0\n",
       "2          4          9        2          10             4     3       0\n",
       "3          5          0        2           6             4     0       0\n",
       "5          5         13        5           7             0     3       0"
      ]
     },
     "execution_count": 29,
     "metadata": {},
     "output_type": "execute_result"
    }
   ],
   "source": [
    "X = df1.loc[:,df1.columns != 'income']\n",
    "X.head()"
   ]
  },
  {
   "cell_type": "code",
   "execution_count": 30,
   "id": "3451980b",
   "metadata": {
    "ExecuteTime": {
     "end_time": "2023-10-20T12:08:17.999544Z",
     "start_time": "2023-10-20T12:08:17.927545Z"
    }
   },
   "outputs": [
    {
     "data": {
      "text/plain": [
       "0        0\n",
       "1        0\n",
       "2        1\n",
       "3        1\n",
       "5        0\n",
       "        ..\n",
       "48837    0\n",
       "48838    1\n",
       "48839    0\n",
       "48840    0\n",
       "48841    1\n",
       "Name: income, Length: 45222, dtype: int32"
      ]
     },
     "execution_count": 30,
     "metadata": {},
     "output_type": "execute_result"
    }
   ],
   "source": [
    "y = df1.income\n",
    "y"
   ]
  },
  {
   "cell_type": "markdown",
   "id": "3800824e",
   "metadata": {},
   "source": [
    "# Step 4: Splitting the dataset into train and test part"
   ]
  },
  {
   "cell_type": "code",
   "execution_count": 31,
   "id": "c10ffcff",
   "metadata": {
    "ExecuteTime": {
     "end_time": "2023-10-20T12:08:18.183606Z",
     "start_time": "2023-10-20T12:08:18.007542Z"
    }
   },
   "outputs": [],
   "source": [
    "from sklearn.model_selection import train_test_split\n",
    "X_train, X_test, y_train, y_test = train_test_split(\n",
    "    X, y, test_size=0.20, random_state=1)"
   ]
  },
  {
   "cell_type": "markdown",
   "id": "805944c2",
   "metadata": {},
   "source": [
    "# Step 5: Standarizing the data before model building"
   ]
  },
  {
   "cell_type": "code",
   "execution_count": 32,
   "id": "6ccfe64a",
   "metadata": {
    "ExecuteTime": {
     "end_time": "2023-10-20T12:08:18.207584Z",
     "start_time": "2023-10-20T12:08:18.183606Z"
    }
   },
   "outputs": [],
   "source": [
    "from sklearn.preprocessing import StandardScaler\n",
    "scaler = StandardScaler()"
   ]
  },
  {
   "cell_type": "code",
   "execution_count": 33,
   "id": "88c6b9a6",
   "metadata": {
    "ExecuteTime": {
     "end_time": "2023-10-20T12:08:18.359621Z",
     "start_time": "2023-10-20T12:08:18.215556Z"
    }
   },
   "outputs": [],
   "source": [
    "X_train_scaled = scaler.fit_transform(X_train)\n",
    "X_test_scaled = scaler.transform(X_test)"
   ]
  },
  {
   "cell_type": "markdown",
   "id": "ec1df00c",
   "metadata": {},
   "source": [
    "# Step 6: Building ml model using Logistic regression"
   ]
  },
  {
   "cell_type": "code",
   "execution_count": 34,
   "id": "943de004",
   "metadata": {
    "ExecuteTime": {
     "end_time": "2023-10-20T12:08:18.615621Z",
     "start_time": "2023-10-20T12:08:18.359621Z"
    }
   },
   "outputs": [
    {
     "data": {
      "text/plain": [
       "LogisticRegression()"
      ]
     },
     "execution_count": 34,
     "metadata": {},
     "output_type": "execute_result"
    }
   ],
   "source": [
    "from sklearn.linear_model import LogisticRegression\n",
    "logreg = LogisticRegression()\n",
    "logreg.fit(X_train_scaled, y_train)"
   ]
  },
  {
   "cell_type": "code",
   "execution_count": 35,
   "id": "0932c6b2",
   "metadata": {
    "ExecuteTime": {
     "end_time": "2023-10-20T12:08:18.631584Z",
     "start_time": "2023-10-20T12:08:18.615621Z"
    }
   },
   "outputs": [],
   "source": [
    "y_pred_train = logreg.predict(X_train_scaled)\n",
    "y_pred_test = logreg.predict(X_test_scaled)"
   ]
  },
  {
   "cell_type": "code",
   "execution_count": 36,
   "id": "d3a33de2",
   "metadata": {
    "ExecuteTime": {
     "end_time": "2023-10-20T12:08:18.879600Z",
     "start_time": "2023-10-20T12:08:18.631584Z"
    }
   },
   "outputs": [
    {
     "data": {
      "text/html": [
       "<div>\n",
       "<style scoped>\n",
       "    .dataframe tbody tr th:only-of-type {\n",
       "        vertical-align: middle;\n",
       "    }\n",
       "\n",
       "    .dataframe tbody tr th {\n",
       "        vertical-align: top;\n",
       "    }\n",
       "\n",
       "    .dataframe thead th {\n",
       "        text-align: right;\n",
       "    }\n",
       "</style>\n",
       "<table border=\"1\" class=\"dataframe\">\n",
       "  <thead>\n",
       "    <tr style=\"text-align: right;\">\n",
       "      <th></th>\n",
       "      <th>Actual</th>\n",
       "      <th>Predicted</th>\n",
       "    </tr>\n",
       "  </thead>\n",
       "  <tbody>\n",
       "    <tr>\n",
       "      <th>0</th>\n",
       "      <td>0</td>\n",
       "      <td>0</td>\n",
       "    </tr>\n",
       "    <tr>\n",
       "      <th>1</th>\n",
       "      <td>0</td>\n",
       "      <td>0</td>\n",
       "    </tr>\n",
       "    <tr>\n",
       "      <th>2</th>\n",
       "      <td>1</td>\n",
       "      <td>0</td>\n",
       "    </tr>\n",
       "    <tr>\n",
       "      <th>3</th>\n",
       "      <td>0</td>\n",
       "      <td>0</td>\n",
       "    </tr>\n",
       "    <tr>\n",
       "      <th>4</th>\n",
       "      <td>0</td>\n",
       "      <td>0</td>\n",
       "    </tr>\n",
       "    <tr>\n",
       "      <th>...</th>\n",
       "      <td>...</td>\n",
       "      <td>...</td>\n",
       "    </tr>\n",
       "    <tr>\n",
       "      <th>36172</th>\n",
       "      <td>0</td>\n",
       "      <td>0</td>\n",
       "    </tr>\n",
       "    <tr>\n",
       "      <th>36173</th>\n",
       "      <td>1</td>\n",
       "      <td>0</td>\n",
       "    </tr>\n",
       "    <tr>\n",
       "      <th>36174</th>\n",
       "      <td>0</td>\n",
       "      <td>0</td>\n",
       "    </tr>\n",
       "    <tr>\n",
       "      <th>36175</th>\n",
       "      <td>0</td>\n",
       "      <td>0</td>\n",
       "    </tr>\n",
       "    <tr>\n",
       "      <th>36176</th>\n",
       "      <td>1</td>\n",
       "      <td>1</td>\n",
       "    </tr>\n",
       "  </tbody>\n",
       "</table>\n",
       "<p>36177 rows × 2 columns</p>\n",
       "</div>"
      ],
      "text/plain": [
       "       Actual  Predicted\n",
       "0           0          0\n",
       "1           0          0\n",
       "2           1          0\n",
       "3           0          0\n",
       "4           0          0\n",
       "...       ...        ...\n",
       "36172       0          0\n",
       "36173       1          0\n",
       "36174       0          0\n",
       "36175       0          0\n",
       "36176       1          1\n",
       "\n",
       "[36177 rows x 2 columns]"
      ]
     },
     "execution_count": 36,
     "metadata": {},
     "output_type": "execute_result"
    }
   ],
   "source": [
    "pd.DataFrame(zip(y_train, y_pred_train), columns=['Actual','Predicted'])"
   ]
  },
  {
   "cell_type": "code",
   "execution_count": 37,
   "id": "b31f5992",
   "metadata": {
    "ExecuteTime": {
     "end_time": "2023-10-20T12:08:18.959636Z",
     "start_time": "2023-10-20T12:08:18.879600Z"
    }
   },
   "outputs": [
    {
     "data": {
      "text/html": [
       "<div>\n",
       "<style scoped>\n",
       "    .dataframe tbody tr th:only-of-type {\n",
       "        vertical-align: middle;\n",
       "    }\n",
       "\n",
       "    .dataframe tbody tr th {\n",
       "        vertical-align: top;\n",
       "    }\n",
       "\n",
       "    .dataframe thead th {\n",
       "        text-align: right;\n",
       "    }\n",
       "</style>\n",
       "<table border=\"1\" class=\"dataframe\">\n",
       "  <thead>\n",
       "    <tr style=\"text-align: right;\">\n",
       "      <th></th>\n",
       "      <th>Actual</th>\n",
       "      <th>Predicted</th>\n",
       "    </tr>\n",
       "  </thead>\n",
       "  <tbody>\n",
       "    <tr>\n",
       "      <th>0</th>\n",
       "      <td>0</td>\n",
       "      <td>0</td>\n",
       "    </tr>\n",
       "    <tr>\n",
       "      <th>1</th>\n",
       "      <td>0</td>\n",
       "      <td>0</td>\n",
       "    </tr>\n",
       "    <tr>\n",
       "      <th>2</th>\n",
       "      <td>0</td>\n",
       "      <td>1</td>\n",
       "    </tr>\n",
       "    <tr>\n",
       "      <th>3</th>\n",
       "      <td>0</td>\n",
       "      <td>0</td>\n",
       "    </tr>\n",
       "    <tr>\n",
       "      <th>4</th>\n",
       "      <td>1</td>\n",
       "      <td>0</td>\n",
       "    </tr>\n",
       "    <tr>\n",
       "      <th>...</th>\n",
       "      <td>...</td>\n",
       "      <td>...</td>\n",
       "    </tr>\n",
       "    <tr>\n",
       "      <th>9040</th>\n",
       "      <td>1</td>\n",
       "      <td>0</td>\n",
       "    </tr>\n",
       "    <tr>\n",
       "      <th>9041</th>\n",
       "      <td>1</td>\n",
       "      <td>1</td>\n",
       "    </tr>\n",
       "    <tr>\n",
       "      <th>9042</th>\n",
       "      <td>1</td>\n",
       "      <td>1</td>\n",
       "    </tr>\n",
       "    <tr>\n",
       "      <th>9043</th>\n",
       "      <td>0</td>\n",
       "      <td>0</td>\n",
       "    </tr>\n",
       "    <tr>\n",
       "      <th>9044</th>\n",
       "      <td>0</td>\n",
       "      <td>0</td>\n",
       "    </tr>\n",
       "  </tbody>\n",
       "</table>\n",
       "<p>9045 rows × 2 columns</p>\n",
       "</div>"
      ],
      "text/plain": [
       "      Actual  Predicted\n",
       "0          0          0\n",
       "1          0          0\n",
       "2          0          1\n",
       "3          0          0\n",
       "4          1          0\n",
       "...      ...        ...\n",
       "9040       1          0\n",
       "9041       1          1\n",
       "9042       1          1\n",
       "9043       0          0\n",
       "9044       0          0\n",
       "\n",
       "[9045 rows x 2 columns]"
      ]
     },
     "execution_count": 37,
     "metadata": {},
     "output_type": "execute_result"
    }
   ],
   "source": [
    "pd.DataFrame(zip(y_test, y_pred_test), columns=['Actual','Predicted'])"
   ]
  },
  {
   "cell_type": "markdown",
   "id": "888608c8",
   "metadata": {},
   "source": [
    "# Step 7: Evaluating the model using metrics "
   ]
  },
  {
   "cell_type": "code",
   "execution_count": 38,
   "id": "88fdb42c",
   "metadata": {
    "ExecuteTime": {
     "end_time": "2023-10-20T12:08:19.039665Z",
     "start_time": "2023-10-20T12:08:18.967609Z"
    }
   },
   "outputs": [],
   "source": [
    "from sklearn.metrics import accuracy_score, confusion_matrix"
   ]
  },
  {
   "cell_type": "code",
   "execution_count": 39,
   "id": "4da25c5f",
   "metadata": {
    "ExecuteTime": {
     "end_time": "2023-10-20T12:08:19.175650Z",
     "start_time": "2023-10-20T12:08:19.047613Z"
    }
   },
   "outputs": [
    {
     "data": {
      "text/plain": [
       "0.7524117533239351"
      ]
     },
     "execution_count": 39,
     "metadata": {},
     "output_type": "execute_result"
    }
   ],
   "source": [
    "# Accuracy on train data\n",
    "accuracy_score(y_train, y_pred_train)"
   ]
  },
  {
   "cell_type": "code",
   "execution_count": 40,
   "id": "014c9950",
   "metadata": {
    "ExecuteTime": {
     "end_time": "2023-10-20T12:08:19.279629Z",
     "start_time": "2023-10-20T12:08:19.183630Z"
    }
   },
   "outputs": [
    {
     "data": {
      "text/plain": [
       "0.7579878385848535"
      ]
     },
     "execution_count": 40,
     "metadata": {},
     "output_type": "execute_result"
    }
   ],
   "source": [
    "# Accuracy on test data\n",
    "accuracy_score(y_test, y_pred_test)"
   ]
  },
  {
   "cell_type": "code",
   "execution_count": 57,
   "id": "5a6af343",
   "metadata": {
    "ExecuteTime": {
     "end_time": "2023-10-20T12:54:54.394879Z",
     "start_time": "2023-10-20T12:54:54.388856Z"
    }
   },
   "outputs": [],
   "source": [
    "from sklearn.metrics import classification_report"
   ]
  },
  {
   "cell_type": "code",
   "execution_count": 58,
   "id": "e604cba4",
   "metadata": {
    "ExecuteTime": {
     "end_time": "2023-10-20T12:55:19.613227Z",
     "start_time": "2023-10-20T12:55:19.573196Z"
    }
   },
   "outputs": [
    {
     "name": "stdout",
     "output_type": "stream",
     "text": [
      "              precision    recall  f1-score   support\n",
      "\n",
      "           0       0.78      0.94      0.85      6808\n",
      "           1       0.53      0.20      0.29      2237\n",
      "\n",
      "    accuracy                           0.76      9045\n",
      "   macro avg       0.66      0.57      0.57      9045\n",
      "weighted avg       0.72      0.76      0.71      9045\n",
      "\n"
     ]
    }
   ],
   "source": [
    "confusion_matrix(y_test,y_pred_test)\n",
    "print(classification_report(y_test,y_pred_test))"
   ]
  },
  {
   "cell_type": "markdown",
   "id": "04ad9fe7",
   "metadata": {},
   "source": [
    "# Building ml model using Random Forest Classifier"
   ]
  },
  {
   "cell_type": "code",
   "execution_count": 41,
   "id": "95ea0ff0",
   "metadata": {
    "ExecuteTime": {
     "end_time": "2023-10-20T12:08:19.519702Z",
     "start_time": "2023-10-20T12:08:19.287630Z"
    }
   },
   "outputs": [],
   "source": [
    "from sklearn.ensemble import RandomForestClassifier\n",
    "rf_classifier = RandomForestClassifier(random_state=42)"
   ]
  },
  {
   "cell_type": "code",
   "execution_count": 42,
   "id": "e829e539",
   "metadata": {
    "ExecuteTime": {
     "end_time": "2023-10-20T12:08:22.523642Z",
     "start_time": "2023-10-20T12:08:19.519702Z"
    }
   },
   "outputs": [
    {
     "data": {
      "text/plain": [
       "RandomForestClassifier(random_state=42)"
      ]
     },
     "execution_count": 42,
     "metadata": {},
     "output_type": "execute_result"
    }
   ],
   "source": [
    "rf_classifier.fit(X_train, y_train)"
   ]
  },
  {
   "cell_type": "code",
   "execution_count": 43,
   "id": "88f15103",
   "metadata": {
    "ExecuteTime": {
     "end_time": "2023-10-20T12:08:22.971730Z",
     "start_time": "2023-10-20T12:08:22.523642Z"
    }
   },
   "outputs": [],
   "source": [
    "y_pred_rf = rf_classifier.predict(X_test)"
   ]
  },
  {
   "cell_type": "code",
   "execution_count": 44,
   "id": "26da804e",
   "metadata": {
    "ExecuteTime": {
     "end_time": "2023-10-20T12:08:23.003679Z",
     "start_time": "2023-10-20T12:08:22.971730Z"
    }
   },
   "outputs": [
    {
     "data": {
      "text/plain": [
       "0.8201216141514649"
      ]
     },
     "execution_count": 44,
     "metadata": {},
     "output_type": "execute_result"
    }
   ],
   "source": [
    "accuracy_score(y_test, y_pred_rf)"
   ]
  },
  {
   "cell_type": "markdown",
   "id": "09f0be00",
   "metadata": {},
   "source": [
    "# Step 8: Tuning the hyperparameter using GridSearchCV"
   ]
  },
  {
   "cell_type": "code",
   "execution_count": 45,
   "id": "3e4e4f2e",
   "metadata": {
    "ExecuteTime": {
     "end_time": "2023-10-20T12:08:23.083684Z",
     "start_time": "2023-10-20T12:08:23.011680Z"
    }
   },
   "outputs": [],
   "source": [
    "from sklearn.model_selection import GridSearchCV"
   ]
  },
  {
   "cell_type": "code",
   "execution_count": 46,
   "id": "2ee0615f",
   "metadata": {
    "ExecuteTime": {
     "end_time": "2023-10-20T12:08:23.195744Z",
     "start_time": "2023-10-20T12:08:23.083684Z"
    }
   },
   "outputs": [],
   "source": [
    "param_grid = {\n",
    "    'n_estimators': [50, 100, 200],\n",
    "    'max_depth': [None, 10, 20],\n",
    "    'min_samples_split': [2, 5, 10],\n",
    "    'min_samples_leaf': [1, 2, 4],\n",
    "    'bootstrap': [True, False]}"
   ]
  },
  {
   "cell_type": "code",
   "execution_count": 47,
   "id": "6f98abe4",
   "metadata": {
    "ExecuteTime": {
     "end_time": "2023-10-20T12:08:23.291751Z",
     "start_time": "2023-10-20T12:08:23.195744Z"
    }
   },
   "outputs": [],
   "source": [
    "grid_search = GridSearchCV(estimator=rf_classifier, param_grid=param_grid, cv=5, scoring='accuracy')"
   ]
  },
  {
   "cell_type": "code",
   "execution_count": 48,
   "id": "176433e2",
   "metadata": {
    "ExecuteTime": {
     "end_time": "2023-10-20T12:47:59.659628Z",
     "start_time": "2023-10-20T12:08:23.291751Z"
    }
   },
   "outputs": [
    {
     "data": {
      "text/plain": [
       "GridSearchCV(cv=5, estimator=RandomForestClassifier(random_state=42),\n",
       "             param_grid={'bootstrap': [True, False],\n",
       "                         'max_depth': [None, 10, 20],\n",
       "                         'min_samples_leaf': [1, 2, 4],\n",
       "                         'min_samples_split': [2, 5, 10],\n",
       "                         'n_estimators': [50, 100, 200]},\n",
       "             scoring='accuracy')"
      ]
     },
     "execution_count": 48,
     "metadata": {},
     "output_type": "execute_result"
    }
   ],
   "source": [
    "grid_search.fit(X_train, y_train)"
   ]
  },
  {
   "cell_type": "code",
   "execution_count": 49,
   "id": "9432100a",
   "metadata": {
    "ExecuteTime": {
     "end_time": "2023-10-20T12:47:59.671656Z",
     "start_time": "2023-10-20T12:47:59.663632Z"
    }
   },
   "outputs": [
    {
     "name": "stdout",
     "output_type": "stream",
     "text": [
      "Best Hyperparameters: {'bootstrap': False, 'max_depth': 20, 'min_samples_leaf': 4, 'min_samples_split': 2, 'n_estimators': 50}\n"
     ]
    }
   ],
   "source": [
    "print(\"Best Hyperparameters:\", grid_search.best_params_)"
   ]
  },
  {
   "cell_type": "code",
   "execution_count": 50,
   "id": "80a8ce6d",
   "metadata": {
    "ExecuteTime": {
     "end_time": "2023-10-20T12:47:59.831582Z",
     "start_time": "2023-10-20T12:47:59.677643Z"
    }
   },
   "outputs": [],
   "source": [
    "best_rf_classifier = grid_search.best_estimator_"
   ]
  },
  {
   "cell_type": "code",
   "execution_count": 51,
   "id": "93761bc0",
   "metadata": {
    "ExecuteTime": {
     "end_time": "2023-10-20T12:48:00.155610Z",
     "start_time": "2023-10-20T12:47:59.835549Z"
    }
   },
   "outputs": [],
   "source": [
    "y_pred1 = best_rf_classifier.predict(X_test)"
   ]
  },
  {
   "cell_type": "code",
   "execution_count": 52,
   "id": "7adc9c4a",
   "metadata": {
    "ExecuteTime": {
     "end_time": "2023-10-20T12:48:00.173591Z",
     "start_time": "2023-10-20T12:48:00.159577Z"
    }
   },
   "outputs": [
    {
     "data": {
      "text/plain": [
       "0.8274184632393587"
      ]
     },
     "execution_count": 52,
     "metadata": {},
     "output_type": "execute_result"
    }
   ],
   "source": [
    "accuracy_score(y_test, y_pred1)"
   ]
  },
  {
   "cell_type": "code",
   "execution_count": 59,
   "id": "62394c3b",
   "metadata": {
    "ExecuteTime": {
     "end_time": "2023-10-20T12:56:14.492506Z",
     "start_time": "2023-10-20T12:56:14.452481Z"
    }
   },
   "outputs": [
    {
     "name": "stdout",
     "output_type": "stream",
     "text": [
      "              precision    recall  f1-score   support\n",
      "\n",
      "           0       0.86      0.92      0.89      6808\n",
      "           1       0.69      0.55      0.61      2237\n",
      "\n",
      "    accuracy                           0.83      9045\n",
      "   macro avg       0.78      0.73      0.75      9045\n",
      "weighted avg       0.82      0.83      0.82      9045\n",
      "\n"
     ]
    }
   ],
   "source": [
    "confusion_matrix(y_test,y_pred1)\n",
    "print(classification_report(y_test,y_pred1))"
   ]
  },
  {
   "cell_type": "markdown",
   "id": "6cec07ac",
   "metadata": {},
   "source": [
    "# CONCLUSION"
   ]
  },
  {
   "cell_type": "markdown",
   "id": "75fe6fb9",
   "metadata": {},
   "source": [
    "__After building model using these two algorithms and evaluating the accuracy score it shows that random forest gives higher accuracy. It means that it predicts the salary with better accuracy then logistic regression__"
   ]
  }
 ],
 "metadata": {
  "kernelspec": {
   "display_name": "Python 3 (ipykernel)",
   "language": "python",
   "name": "python3"
  },
  "language_info": {
   "codemirror_mode": {
    "name": "ipython",
    "version": 3
   },
   "file_extension": ".py",
   "mimetype": "text/x-python",
   "name": "python",
   "nbconvert_exporter": "python",
   "pygments_lexer": "ipython3",
   "version": "3.9.12"
  }
 },
 "nbformat": 4,
 "nbformat_minor": 5
}
